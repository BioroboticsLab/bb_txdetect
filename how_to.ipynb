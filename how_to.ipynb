{
 "cells": [
  {
   "cell_type": "markdown",
   "metadata": {},
   "source": [
    "# loading ground truth data from csv file\n",
    "\n",
    "`load_ground_truth_events` returns a list of `load_data.Event` wich contains metadata about a series of frames that may or may not show trophallaxis.\n",
    "each `Event` has a property `observations`, which is a list of `load_data.Observation` which contains metadata about one frame.\n",
    "The csv format is the one used by Andreas Berg, see help output for details."
   ]
  },
  {
   "cell_type": "code",
   "execution_count": 1,
   "metadata": {},
   "outputs": [
    {
     "name": "stderr",
     "output_type": "stream",
     "text": [
      "/usr/lib/python3/dist-packages/matplotlib/__init__.py:874: UserWarning: axes.color_cycle is deprecated and replaced with axes.prop_cycle; please use the latter.\n",
      "  warnings.warn(self.msg_depr % (key, alt_key))\n",
      "/usr/local/lib/python3.5/dist-packages/psycopg2/__init__.py:144: UserWarning: The psycopg2 wheel package will be renamed from release 2.8; in order to keep installing from binary please use \"pip install psycopg2-binary\" instead. For details see: <http://initd.org/psycopg/docs/install.html#binary-install-from-pypi>.\n",
      "  \"\"\")\n"
     ]
    },
    {
     "name": "stdout",
     "output_type": "stream",
     "text": [
      "Help on function load_ground_truth_events in module bb_txdetect.load_data:\n",
      "\n",
      "load_ground_truth_events(csv_path:str, padding:int) -> [<class 'bb_txdetect.load_data.Event'>]\n",
      "    Return a list of Event objects, one Event per row in the csv file.\n",
      "    Args:\n",
      "        csv_path: path to the ground truth data. required columns are:\n",
      "            track_id_combination, bee_a_detection_ids,bee_b_detection_ids,\n",
      "            human_decidable_interaction, trophallaxis_observed,\n",
      "            trophallaxis_start_frame_nr, trophallaxis_end_frame_nr\n",
      "        padding: set to a positive value to add extra frames at the beginning\n",
      "            and end of each event.\n",
      "\n"
     ]
    }
   ],
   "source": [
    "from bb_txdetect.load_data import load_ground_truth_events\n",
    "help(load_ground_truth_events)"
   ]
  },
  {
   "cell_type": "markdown",
   "metadata": {},
   "source": [
    "## saving the images\n",
    "this will save the images for each event including padding frames before the first and after the last frame. images will be around 600 x 600 to leave room for augmentation.\n",
    "this may take a very long time. for 2007 events it may take many days"
   ]
  },
  {
   "cell_type": "code",
   "execution_count": 2,
   "metadata": {},
   "outputs": [
    {
     "name": "stdout",
     "output_type": "stream",
     "text": [
      "Help on function save_images in module bb_txdetect.get_images:\n",
      "\n",
      "save_images(observations:[<class 'bb_txdetect.load_data.Observation'>], index:int, image_folder='images_v2_y_events')\n",
      "    Save an image for each Observation.\n",
      "    The index is used for naming the folders.\n",
      "\n"
     ]
    }
   ],
   "source": [
    "from bb_txdetect.get_images import save_images\n",
    "help(save_images)\n",
    "\n",
    "events = [] # use return value of load_ground_truth_events\n",
    "for i, event in enumerate(events):\n",
    "    save_images(observations=event.observations, index=i, image_folder=\"raw_images\")"
   ]
  },
  {
   "cell_type": "markdown",
   "metadata": {},
   "source": [
    "# loading data from individual frames that are not grouped in Events\n",
    "\n",
    "`load_candidates` calls `save_images` directly"
   ]
  },
  {
   "cell_type": "code",
   "execution_count": 3,
   "metadata": {},
   "outputs": [
    {
     "name": "stdout",
     "output_type": "stream",
     "text": [
      "Help on function load_candidates in module bb_txdetect.validation:\n",
      "\n",
      "load_candidates(frame_padding_length:int=20, json_file_path:str='/mnt/storage/david/cache/beesbook/trophallaxis/candidate_events.json', output_folder:str='/home/mi/mhocke/bb_txdetect_data/images/candidates')\n",
      "    load images based on json file. the images will need further preprocessing before use.\n",
      "    json file format:\n",
      "        [[frame_id, bee_id0, bee_id1, x1, y1, x2, y2, cam_id]]\n",
      "\n"
     ]
    }
   ],
   "source": [
    "from bb_txdetect.validation import load_candidates\n",
    "help(load_candidates)"
   ]
  },
  {
   "cell_type": "markdown",
   "metadata": {},
   "source": [
    "# preprocessing\n",
    "after this step, the images are ready for training. this step also takes a long time, but not more than a few hours."
   ]
  },
  {
   "cell_type": "code",
   "execution_count": 4,
   "metadata": {},
   "outputs": [
    {
     "name": "stdout",
     "output_type": "stream",
     "text": [
      "Help on function preprocess_images in module bb_txdetect.preprocess_images:\n",
      "\n",
      "preprocess_images(image_folder:str, padding:int=16)\n",
      "    crop and rotate all images and save the processed images\n",
      "    in two folders with the name {image_folder}_pad{padding}[_invert]\n",
      "    Args:\n",
      "        image_folder: input image path\n",
      "        padding: padding that is left around the image on each side.\n",
      "                 so e.g. 128x128 with padding 16 leads to 160x160\n",
      "\n"
     ]
    }
   ],
   "source": [
    "from bb_txdetect.preprocess_images import preprocess_images\n",
    "help(preprocess_images)"
   ]
  },
  {
   "cell_type": "markdown",
   "metadata": {},
   "source": [
    "# training\n"
   ]
  },
  {
   "cell_type": "code",
   "execution_count": 5,
   "metadata": {},
   "outputs": [
    {
     "name": "stdout",
     "output_type": "stream",
     "text": [
      "Help on function train in module bb_txdetect.train:\n",
      "\n",
      "train(seed, rca, item_depth, drop_frames_around_trophallaxis:bool, auto_archive=True, clahe=False, random_rotation_max=0, model_parameters=None, num_epochs=50, batch_size=64, network=None, save_last_model=False)\n",
      "    train a network, save stats, maybe save the model.\n",
      "    Args:\n",
      "        seed: determines which events go to test and which to train,\n",
      "                for cross validaiton.\n",
      "        rca: random crop amplitude, amount of random crops, set to 0 to disable\n",
      "        item_depth: how many images should the network see for each frame.\n",
      "                if set to 3 the net sees the center frame and one frame\n",
      "                before and after.\n",
      "                if item_depth is high, training takes longer.\n",
      "        drop_frames_around_trophallaxis: if true ignore all negative frames of\n",
      "                all positive events.\n",
      "        auto_archive: if true the stats files get moved automatically to an\n",
      "                archive folder\n",
      "        clahe: apply clahe on images\n",
      "        random_rotation_max: maximum angle of random rotations\n",
      "        model_parameters: for models that need additional parameters\n",
      "        network: class of network that should be used\n",
      "\n"
     ]
    }
   ],
   "source": [
    "from bb_txdetect.train import train\n",
    "help(train)"
   ]
  },
  {
   "cell_type": "code",
   "execution_count": 6,
   "metadata": {},
   "outputs": [
    {
     "name": "stdout",
     "output_type": "stream",
     "text": [
      "Help on function cross_validate in module bb_txdetect.train:\n",
      "\n",
      "cross_validate(num_runs=10, **kwargs)\n",
      "    run train num_runs times with different seeds for cross validation\n",
      "\n"
     ]
    }
   ],
   "source": [
    "from bb_txdetect.train import cross_validate\n",
    "help(cross_validate)"
   ]
  },
  {
   "cell_type": "markdown",
   "metadata": {},
   "source": [
    "# results\n",
    "for each training run, a folder with the date as a name is created in `saved_models`.\n",
    "this folder contains most importantly `parameters.json` and `train_stats.csv`.\n",
    "the results module provides some utility functions for viewing this data.        "
   ]
  },
  {
   "cell_type": "code",
   "execution_count": 10,
   "metadata": {},
   "outputs": [
    {
     "data": {
      "text/html": [
       "<div>\n",
       "<table border=\"1\" class=\"dataframe\">\n",
       "  <thead>\n",
       "    <tr style=\"text-align: right;\">\n",
       "      <th></th>\n",
       "      <th>best epoch</th>\n",
       "      <th>channels</th>\n",
       "      <th>date</th>\n",
       "      <th>drop</th>\n",
       "      <th>end score</th>\n",
       "      <th>end score train</th>\n",
       "      <th>maxangle</th>\n",
       "      <th>model_parameters</th>\n",
       "      <th>net</th>\n",
       "      <th>rca</th>\n",
       "      <th>seed</th>\n",
       "      <th>version</th>\n",
       "    </tr>\n",
       "  </thead>\n",
       "  <tbody>\n",
       "    <tr>\n",
       "      <th>704</th>\n",
       "      <td>29</td>\n",
       "      <td>3</td>\n",
       "      <td>2018-08-27-06-47</td>\n",
       "      <td>0</td>\n",
       "      <td>0.830466</td>\n",
       "      <td>0.936569</td>\n",
       "      <td>20</td>\n",
       "      <td>[5, 10, 20, 40, 80]</td>\n",
       "      <td>6</td>\n",
       "      <td>8</td>\n",
       "      <td>0</td>\n",
       "      <td>2.3</td>\n",
       "    </tr>\n",
       "    <tr>\n",
       "      <th>705</th>\n",
       "      <td>31</td>\n",
       "      <td>3</td>\n",
       "      <td>2018-08-27-07-05</td>\n",
       "      <td>0</td>\n",
       "      <td>0.688201</td>\n",
       "      <td>0.948720</td>\n",
       "      <td>20</td>\n",
       "      <td>[5, 10, 20, 40, 80]</td>\n",
       "      <td>6</td>\n",
       "      <td>8</td>\n",
       "      <td>1</td>\n",
       "      <td>2.3</td>\n",
       "    </tr>\n",
       "    <tr>\n",
       "      <th>706</th>\n",
       "      <td>46</td>\n",
       "      <td>3</td>\n",
       "      <td>2018-08-27-07-23</td>\n",
       "      <td>0</td>\n",
       "      <td>0.789017</td>\n",
       "      <td>0.941885</td>\n",
       "      <td>20</td>\n",
       "      <td>[5, 10, 20, 40, 80]</td>\n",
       "      <td>6</td>\n",
       "      <td>8</td>\n",
       "      <td>2</td>\n",
       "      <td>2.3</td>\n",
       "    </tr>\n",
       "    <tr>\n",
       "      <th>707</th>\n",
       "      <td>43</td>\n",
       "      <td>3</td>\n",
       "      <td>2018-08-27-07-42</td>\n",
       "      <td>0</td>\n",
       "      <td>0.823725</td>\n",
       "      <td>0.939555</td>\n",
       "      <td>20</td>\n",
       "      <td>[5, 10, 20, 40, 80]</td>\n",
       "      <td>6</td>\n",
       "      <td>8</td>\n",
       "      <td>3</td>\n",
       "      <td>2.3</td>\n",
       "    </tr>\n",
       "    <tr>\n",
       "      <th>708</th>\n",
       "      <td>11</td>\n",
       "      <td>3</td>\n",
       "      <td>2018-08-27-08-04</td>\n",
       "      <td>0</td>\n",
       "      <td>0.801883</td>\n",
       "      <td>0.941198</td>\n",
       "      <td>20</td>\n",
       "      <td>[5, 10, 20, 40, 80]</td>\n",
       "      <td>6</td>\n",
       "      <td>8</td>\n",
       "      <td>4</td>\n",
       "      <td>2.3</td>\n",
       "    </tr>\n",
       "    <tr>\n",
       "      <th>709</th>\n",
       "      <td>43</td>\n",
       "      <td>3</td>\n",
       "      <td>2018-08-27-08-22</td>\n",
       "      <td>0</td>\n",
       "      <td>0.571967</td>\n",
       "      <td>0.939679</td>\n",
       "      <td>20</td>\n",
       "      <td>[5, 10, 20, 40, 80]</td>\n",
       "      <td>6</td>\n",
       "      <td>8</td>\n",
       "      <td>5</td>\n",
       "      <td>2.3</td>\n",
       "    </tr>\n",
       "    <tr>\n",
       "      <th>710</th>\n",
       "      <td>39</td>\n",
       "      <td>3</td>\n",
       "      <td>2018-08-27-08-44</td>\n",
       "      <td>0</td>\n",
       "      <td>0.746318</td>\n",
       "      <td>0.933224</td>\n",
       "      <td>20</td>\n",
       "      <td>[5, 10, 20, 40, 80]</td>\n",
       "      <td>6</td>\n",
       "      <td>8</td>\n",
       "      <td>6</td>\n",
       "      <td>2.3</td>\n",
       "    </tr>\n",
       "    <tr>\n",
       "      <th>711</th>\n",
       "      <td>25</td>\n",
       "      <td>3</td>\n",
       "      <td>2018-08-27-09-05</td>\n",
       "      <td>0</td>\n",
       "      <td>0.722379</td>\n",
       "      <td>0.911648</td>\n",
       "      <td>20</td>\n",
       "      <td>[5, 10, 20, 40, 80]</td>\n",
       "      <td>6</td>\n",
       "      <td>8</td>\n",
       "      <td>7</td>\n",
       "      <td>2.3</td>\n",
       "    </tr>\n",
       "    <tr>\n",
       "      <th>712</th>\n",
       "      <td>17</td>\n",
       "      <td>3</td>\n",
       "      <td>2018-08-27-09-24</td>\n",
       "      <td>0</td>\n",
       "      <td>0.815887</td>\n",
       "      <td>0.940458</td>\n",
       "      <td>20</td>\n",
       "      <td>[5, 10, 20, 40, 80]</td>\n",
       "      <td>6</td>\n",
       "      <td>8</td>\n",
       "      <td>8</td>\n",
       "      <td>2.3</td>\n",
       "    </tr>\n",
       "    <tr>\n",
       "      <th>713</th>\n",
       "      <td>26</td>\n",
       "      <td>3</td>\n",
       "      <td>2018-08-27-09-42</td>\n",
       "      <td>0</td>\n",
       "      <td>0.730747</td>\n",
       "      <td>0.918923</td>\n",
       "      <td>20</td>\n",
       "      <td>[5, 10, 20, 40, 80]</td>\n",
       "      <td>6</td>\n",
       "      <td>8</td>\n",
       "      <td>9</td>\n",
       "      <td>2.3</td>\n",
       "    </tr>\n",
       "  </tbody>\n",
       "</table>\n",
       "</div>"
      ],
      "text/plain": [
       "     best epoch  channels              date drop  end score  end score train  \\\n",
       "704          29         3  2018-08-27-06-47    0   0.830466         0.936569   \n",
       "705          31         3  2018-08-27-07-05    0   0.688201         0.948720   \n",
       "706          46         3  2018-08-27-07-23    0   0.789017         0.941885   \n",
       "707          43         3  2018-08-27-07-42    0   0.823725         0.939555   \n",
       "708          11         3  2018-08-27-08-04    0   0.801883         0.941198   \n",
       "709          43         3  2018-08-27-08-22    0   0.571967         0.939679   \n",
       "710          39         3  2018-08-27-08-44    0   0.746318         0.933224   \n",
       "711          25         3  2018-08-27-09-05    0   0.722379         0.911648   \n",
       "712          17         3  2018-08-27-09-24    0   0.815887         0.940458   \n",
       "713          26         3  2018-08-27-09-42    0   0.730747         0.918923   \n",
       "\n",
       "     maxangle     model_parameters  net  rca  seed  version  \n",
       "704        20  [5, 10, 20, 40, 80]    6    8     0      2.3  \n",
       "705        20  [5, 10, 20, 40, 80]    6    8     1      2.3  \n",
       "706        20  [5, 10, 20, 40, 80]    6    8     2      2.3  \n",
       "707        20  [5, 10, 20, 40, 80]    6    8     3      2.3  \n",
       "708        20  [5, 10, 20, 40, 80]    6    8     4      2.3  \n",
       "709        20  [5, 10, 20, 40, 80]    6    8     5      2.3  \n",
       "710        20  [5, 10, 20, 40, 80]    6    8     6      2.3  \n",
       "711        20  [5, 10, 20, 40, 80]    6    8     7      2.3  \n",
       "712        20  [5, 10, 20, 40, 80]    6    8     8      2.3  \n",
       "713        20  [5, 10, 20, 40, 80]    6    8     9      2.3  "
      ]
     },
     "metadata": {},
     "output_type": "display_data"
    }
   ],
   "source": [
    "from bb_txdetect import results\n",
    "df = results.get_dataframe()\n",
    "display(df[(df[\"date\"] > \"2018-08-27\") & (df[\"date\"] < \"2018-09\")])"
   ]
  },
  {
   "cell_type": "code",
   "execution_count": 6,
   "metadata": {},
   "outputs": [
    {
     "data": {
      "text/plain": [
       "[f1: 0.755, std: 0.0513, v: 2.3, crop: 0, rotate:  0, drop:   0, net: 4.1,\n",
       " f1: 0.788, std: 0.0552, v: 2.2, crop: 0, rotate:  0, drop:   0, net: 4.0,\n",
       " f1: 0.796, std: 0.0396, v: 2.3, crop: 0, rotate:  0, drop:   0, net: 4.0,\n",
       " f1: 0.806, std: 0.0499, v: 2.2, crop: 0, rotate: 20, drop:   0, net: 4.0,\n",
       " f1: 0.848, std: 0.0374, v: 2.3, crop: 0, rotate:  0, drop: all, net: 4.1,\n",
       " f1: 0.861, std: 0.0362, v: 2.3, crop: 0, rotate:  0, drop: all, net: 4.0,\n",
       " f1: 0.869, std: 0.0259, v: 2.3, crop: 8, rotate: 20, drop: all, net: 4.0]"
      ]
     },
     "execution_count": 6,
     "metadata": {},
     "output_type": "execute_result"
    }
   ],
   "source": [
    "results.get_crossvalidation_results()"
   ]
  },
  {
   "cell_type": "code",
   "execution_count": 9,
   "metadata": {},
   "outputs": [
    {
     "name": "stdout",
     "output_type": "stream",
     "text": [
      "testscore  last: 0.7762461267596668 best: 0.908888888889\n",
      "trainscore last: 0.9260023591420001\n"
     ]
    },
    {
     "data": {
      "image/png": "[encoded data removed]",
      "text/plain": [
       "<matplotlib.figure.Figure at 0x7f2389c941d0>"
      ]
     },
     "metadata": {},
     "output_type": "display_data"
    }
   ],
   "source": [
    "# plot currently running training\n",
    "results.plot_experiment()"
   ]
  },
  {
   "cell_type": "code",
   "execution_count": null,
   "metadata": {},
   "outputs": [],
   "source": []
  }
 ],
 "metadata": {
  "kernelspec": {
   "display_name": "Python 3",
   "language": "python",
   "name": "python3"
  },
  "language_info": {
   "codemirror_mode": {
    "name": "ipython",
    "version": 3
   },
   "file_extension": ".py",
   "mimetype": "text/x-python",
   "name": "python",
   "nbconvert_exporter": "python",
   "pygments_lexer": "ipython3",
   "version": "3.5.2"
  }
 },
 "nbformat": 4,
 "nbformat_minor": 2
}
